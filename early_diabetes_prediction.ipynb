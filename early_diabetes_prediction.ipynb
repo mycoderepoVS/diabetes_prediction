{
 "cells": [
  {
   "cell_type": "markdown",
   "id": "0335e684-50f9-44cd-a485-ad863b42c9b2",
   "metadata": {},
   "source": [
    "# Predicting Early Stage Diabetes Risk In Individuals using Machine Learning"
   ]
  },
  {
   "cell_type": "markdown",
   "id": "42b02829-bda4-4f7a-94f5-e18faa9f38a0",
   "metadata": {},
   "source": [
    "## Project Outline\n",
    "\n",
    "+ Problem Statement\n",
    "+ Motivation\n",
    "+ Dataset Information\n",
    "+ Feature Processing and Feature Engineering\n",
    "+ Machine Learning Model Development\n",
    "+ Prediction\n",
    "+ Evaluation the prediction using various metrics\n",
    "+ Conlusion\n",
    "+ References"
   ]
  },
  {
   "cell_type": "markdown",
   "id": "fdff8bc6-7527-4dc7-b0d0-942b6429f5ac",
   "metadata": {},
   "source": [
    "### Problem Statement\n",
    "* Diabetes is a very common disease with may risk factors that can lead to getting diabetes.\n",
    "* Is it possible to predict whether a patient/individual is at risk of having early stage diabetes given the signs and symptoms?\n",
    "* Since we are using an already labelled dataset to build a predictive model, our task will be a supervised machine learning problem.\n",
    "* Therefore we will be using a supervised machine learning classification approach to solve our problem."
   ]
  },
  {
   "cell_type": "markdown",
   "id": "109a5034-0f89-45f7-8d24-ecc1f980ec26",
   "metadata": {},
   "source": [
    "### Dataset Information\n",
    "+ Datasource\n",
    "    + https://archive.ics.uci.edu/dataset/529/early+stage+diabetes+risk+prediction+dataset\n",
    "\n",
    "\n",
    "+ Description\n",
    "    + This dataset contains the sign and symptpom data of newly diabetic or would be diabetic patient.\n",
    "    + This dataser was published in Computer Vision and Machine Intelligence in Medical Image Analysis.\n",
    "\n",
    "\n",
    "+ Metadata\n",
    "    + The dataset is a multivariate dataset in a csv format.\n",
    "    + It has 520 datapoints and 16 fields or attributes.\n",
    "\n",
    "\n",
    "+ Attribute Information\n",
    "    + Age 20-65\n",
    "    + Sex 1. Male, 2.Female\n",
    "    + Polyuria 1.Yes, 2.No.\n",
    "    + Polydipsia 1.Yes, 2.No.\n",
    "    + sudden weight loss 1.Yes, 2.No.\n",
    "    + weakness 1.Yes, 2.No.\n",
    "    + Polyphagia 1.Yes, 2.No.\n",
    "    + Genital thrush 1.Yes, 2.No.\n",
    "    + visual blurring 1.Yes, 2.No.\n",
    "    + Itching 1.Yes, 2.No.\n",
    "    + Irritability 1.Yes, 2.No.\n",
    "    + delayed healing 1.Yes, 2.No.\n",
    "    + partial paresis 1.Yes, 2.No.\n",
    "    + muscle stiffness 1.Yes, 2.No.\n",
    "    + Alopecia 1.Yes, 2.No.\n",
    "    + Obesity 1.Yes, 2.No.\n",
    "    + Class 1.Positive, 2.Negative.\n"
   ]
  },
  {
   "cell_type": "markdown",
   "id": "a4a64034-2f13-4182-b718-050e96f821d2",
   "metadata": {},
   "source": [
    "### Data Preprocessing"
   ]
  },
  {
   "cell_type": "code",
   "execution_count": 1,
   "id": "d65ecd4b-6e3f-469d-b4a2-332f2e40f189",
   "metadata": {},
   "outputs": [],
   "source": [
    "# Load EDA(Exploratory Data Analysis) Packages\n",
    "import numpy as np\n",
    "import pandas as pd"
   ]
  },
  {
   "cell_type": "code",
   "execution_count": 2,
   "id": "48bb784a-4485-4909-a910-c9cb5a8714dc",
   "metadata": {},
   "outputs": [],
   "source": [
    "# Load Data Vizualization Packages\n",
    "from matplotlib import pyplot as plt\n",
    "import seaborn as sns"
   ]
  },
  {
   "cell_type": "code",
   "execution_count": 4,
   "id": "0bc78ff5-8079-4a7a-89cf-02b854f23493",
   "metadata": {},
   "outputs": [],
   "source": [
    "# Load Machine Learning Packages\n",
    "import sklearn\n",
    "from sklearn.linear_model import LogisticRegression\n",
    "from sklearn.tree import DecisionTreeClassifier"
   ]
  },
  {
   "cell_type": "code",
   "execution_count": 10,
   "id": "55530870-1951-483f-b584-e5fa8f67c119",
   "metadata": {},
   "outputs": [],
   "source": [
    "# Import model evaluation metrics\n",
    "from sklearn.metrics import accuracy_score, classification_report, confusion_matrix\n",
    "from sklearn.model_selection import train_test_split"
   ]
  },
  {
   "cell_type": "code",
   "execution_count": 8,
   "id": "10e0c434-f95d-41ed-a59a-6bd5ffe003f2",
   "metadata": {},
   "outputs": [
    {
     "name": "stdout",
     "output_type": "stream",
     "text": [
      "Pandas version:  2.2.3\n",
      "Numpy version:  2.1.3\n",
      "Seaborn version:  0.13.2\n",
      "Sklearn version:  1.5.2\n"
     ]
    }
   ],
   "source": [
    "# Check Package Versions\n",
    "print(\"Pandas version: \", pd.__version__)\n",
    "print(\"Numpy version: \", np.__version__)\n",
    "print(\"Seaborn version: \", sns.__version__)\n",
    "print(\"Sklearn version: \", sklearn.__version__)\n"
   ]
  },
  {
   "cell_type": "markdown",
   "id": "483dc169-b71c-4280-addf-dc1ea6477ad5",
   "metadata": {},
   "source": [
    "#### Descriptive Analysis of Dataset"
   ]
  },
  {
   "cell_type": "code",
   "execution_count": null,
   "id": "643de7f1-2b94-4010-b4c6-d6f234a864c1",
   "metadata": {},
   "outputs": [],
   "source": [
    "# Load the dataset\n"
   ]
  }
 ],
 "metadata": {
  "kernelspec": {
   "display_name": "Python 3 (ipykernel)",
   "language": "python",
   "name": "python3"
  },
  "language_info": {
   "codemirror_mode": {
    "name": "ipython",
    "version": 3
   },
   "file_extension": ".py",
   "mimetype": "text/x-python",
   "name": "python",
   "nbconvert_exporter": "python",
   "pygments_lexer": "ipython3",
   "version": "3.13.0"
  }
 },
 "nbformat": 4,
 "nbformat_minor": 5
}
